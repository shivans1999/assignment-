{
 "cells": [
  {
   "cell_type": "code",
   "execution_count": 89,
   "metadata": {},
   "outputs": [],
   "source": [
    "# Q1. Explain with an example each when to use a for loop and a while loop."
   ]
  },
  {
   "cell_type": "code",
   "execution_count": null,
   "metadata": {},
   "outputs": [],
   "source": [
    "# EXPLAIN= loop is very important part loops make it easyest way for programer,\n",
    "#  to tell the computer which set of for instance 1 to 1000\n",
    "# there is 2 type of loop 1.for loop / 2.while loop."
   ]
  },
  {
   "cell_type": "code",
   "execution_count": 90,
   "metadata": {},
   "outputs": [
    {
     "name": "stdout",
     "output_type": "stream",
     "text": [
      "1\n",
      "2\n",
      "3\n",
      "4\n",
      "5\n",
      "6\n",
      "7\n",
      "8\n",
      "9\n",
      "10\n"
     ]
    }
   ],
   "source": [
    " #                                         -------------for loop--------------\n",
    "# explaination = A for loop is used to interate trhough a sequance just like - list,tuple,string.\n",
    "# example is = i will write a program to print 1 to 10 using a for loop -\n",
    "l=[1,2,3,4,5,6,7,8,9,10]\n",
    "for i in l:\n",
    "    print(i) \n"
   ]
  },
  {
   "cell_type": "code",
   "execution_count": null,
   "metadata": {},
   "outputs": [],
   "source": [
    "l=[1,2,3,4,5,6,7,8,9,10]\n",
    "for i in l:\n",
    "    print(i) \n"
   ]
  },
  {
   "cell_type": "code",
   "execution_count": 91,
   "metadata": {},
   "outputs": [
    {
     "name": "stdout",
     "output_type": "stream",
     "text": [
      "1\n",
      "2\n",
      "3\n",
      "4\n",
      "5\n",
      "6\n",
      "7\n",
      "8\n",
      "9\n",
      "10\n"
     ]
    }
   ],
   "source": [
    "#                                      ---------------while loop----------------\n",
    "# explaination= in while loop is checked condition first if it evaluate to true the loop is excecute otherwise not.\n",
    "# example is = i will write a program to print 1 to 10 using a while loop -\n",
    "\n",
    "i=1\n",
    "while i<=10:\n",
    "    print(i)\n",
    "    i=i+1\n",
    "\n",
    " "
   ]
  },
  {
   "cell_type": "code",
   "execution_count": 92,
   "metadata": {},
   "outputs": [],
   "source": [
    "# Q2. Write a python program to print the sum and product of the first 10 natural numbers using for and while loop."
   ]
  },
  {
   "cell_type": "code",
   "execution_count": 93,
   "metadata": {},
   "outputs": [
    {
     "name": "stdout",
     "output_type": "stream",
     "text": [
      "sum of the first 10 natural numbers:  55\n",
      "product of the first 10 natural numbers:  3628800\n"
     ]
    }
   ],
   "source": [
    "# sum and product of the first 10 natural number using for loop.\n",
    "num_list = range(1,11)\n",
    "sum = 0\n",
    "prod = 1\n",
    "for i in num_list:\n",
    "    sum =(sum + i)\n",
    "    prod =(prod * i)\n",
    "print(\"sum of the first 10 natural numbers: \",sum)\n",
    "print(\"product of the first 10 natural numbers: \",prod)"
   ]
  },
  {
   "cell_type": "code",
   "execution_count": 94,
   "metadata": {},
   "outputs": [
    {
     "name": "stdout",
     "output_type": "stream",
     "text": [
      "sum of the first 10 natural numbers:  55\n",
      "product of the first 10 natural numbers:  3628800\n"
     ]
    }
   ],
   "source": [
    "# sum and product of the first 10 natural number using while loop.\n",
    "num_list = range(1,11)\n",
    "sum = 0\n",
    "prod = 1\n",
    "i = 0\n",
    "while i <len(num_list):\n",
    "    sum = (sum + num_list[i])\n",
    "    prod = (prod * num_list[i])\n",
    "    i = i + 1\n",
    "print(\"sum of the first 10 natural numbers: \",sum)\n",
    "print(\"product of the first 10 natural numbers: \",prod)"
   ]
  },
  {
   "cell_type": "code",
   "execution_count": 95,
   "metadata": {},
   "outputs": [],
   "source": [
    "# Q3. Create a python program to compute the electricity bill for a household.\n",
    "# The per-unit charges in rupees are as follows: For the first 100 units, the user will be charged Rs. 4.5 per\n",
    "# unit, for the next 100 units, the user will be charged Rs. 6 per unit, and for the next 100 units, the user will\n",
    "# be charged Rs. 10 per unit, After 300 units and above the user will be charged Rs. 20 per unit.\n",
    "# You are required to take the units of electricity consumed in a month from the user as input.\n",
    "# Your program must pass this test case: when the unit of electricity consumed by the user in a month is\n",
    "# 310, the total electricity bill should be 2250.\n"
   ]
  },
  {
   "cell_type": "code",
   "execution_count": 96,
   "metadata": {},
   "outputs": [
    {
     "name": "stdout",
     "output_type": "stream",
     "text": [
      "you will be charged rs. 20 per unit\n"
     ]
    }
   ],
   "source": [
    "#------------------- python program to compute the electricity bill for a household.------------------------\n",
    "# first0 to 100 unit = 4.5 per unit \n",
    "# next 100 to 200 = 6 per unit\n",
    "# next 200 to 300 = 10 per unit \n",
    "# after 300 = 20 per unit \n",
    "\n",
    "unit =int( input(\"please enter your electricty bill unit consumed in a month : \"))\n",
    "if 0 <unit <= 100:\n",
    "    print(\"you will be charged rs. 4.5 per unit\")\n",
    "elif 100 < unit <= 200:\n",
    "    print(\"you will be charged rs. 6 per unit\")\n",
    "elif 200 < unit < 300:\n",
    "    print(\"you will be charged rs. 10 per unit\")\n",
    "else :\n",
    "    print(\"you will be charged rs. 20 per unit\")\n",
    "    \n",
    "if unit==310:\n",
    "    print(\"your total electricty bill is rs.2250\")"
   ]
  },
  {
   "cell_type": "code",
   "execution_count": 97,
   "metadata": {},
   "outputs": [],
   "source": [
    "# Q4. Create a list of numbers from 1 to 100. Use for loop and while loop to calculate the cube of each\n",
    "# number and if the cube of that number is divisible by 4 or 5 then append that number in a list and print\n",
    "# that list."
   ]
  },
  {
   "cell_type": "code",
   "execution_count": 121,
   "metadata": {},
   "outputs": [
    {
     "name": "stdout",
     "output_type": "stream",
     "text": [
      "[1000, 8000, 27000, 64000, 125000, 216000, 343000, 512000, 729000, 1000000]\n"
     ]
    }
   ],
   "source": [
    "#  -------------------calculate the cube of each by Using for loop----------------------\n",
    "list=range(1,101)\n",
    "cubes=[]\n",
    "for num in list:\n",
    "    cube= (num**3)\n",
    "    if cube % 4 == 0 and cube % 5 == 0:\n",
    "     cubes.append(cube)\n",
    "print(cubes)\n"
   ]
  },
  {
   "cell_type": "code",
   "execution_count": 1,
   "metadata": {},
   "outputs": [
    {
     "name": "stdout",
     "output_type": "stream",
     "text": [
      "[8, 64, 125, 216, 512, 1000, 1728, 2744, 3375, 4096, 5832, 8000, 10648, 13824, 15625, 17576, 21952, 27000, 32768, 39304, 42875, 46656, 54872, 64000, 74088, 85184, 91125, 97336, 110592, 125000, 140608, 157464, 166375, 175616, 195112, 216000, 238328, 262144, 274625, 287496, 314432, 343000, 373248, 405224, 421875, 438976, 474552, 512000, 551368, 592704, 614125, 636056, 681472, 729000, 778688, 830584, 857375, 884736, 941192, 1000000]\n"
     ]
    }
   ],
   "source": [
    "# ---------------------calculate the cube of each by Using while loop-----------------------------\n",
    "\n",
    "cubes = []\n",
    "num = 1\n",
    "while num <= 100:\n",
    "    cube =(num ** 3)\n",
    "    if cube % 4 == 0 or cube % 5 == 0:\n",
    "        cubes.append(cube)\n",
    "    num = (num+1)\n",
    "print(cubes)"
   ]
  },
  {
   "cell_type": "code",
   "execution_count": 2,
   "metadata": {},
   "outputs": [],
   "source": [
    "# Q5. Write a program to filter count vowels in the below-given string.string = \"I want to become a data scientist\"?"
   ]
  },
  {
   "cell_type": "code",
   "execution_count": 10,
   "metadata": {},
   "outputs": [
    {
     "name": "stdout",
     "output_type": "stream",
     "text": [
      "the number of the vowels in givin string is:  12\n"
     ]
    }
   ],
   "source": [
    "string = \"I want to become a data scientist\"\n",
    "vowels=(\"aeiou\")\n",
    "count=1\n",
    "for i in string:\n",
    "    if i in vowels:\n",
    "        count = (count+1)\n",
    "print(\"the number of the vowels in givin string is: \",count)"
   ]
  }
 ],
 "metadata": {
  "kernelspec": {
   "display_name": "Python 3",
   "language": "python",
   "name": "python3"
  },
  "language_info": {
   "codemirror_mode": {
    "name": "ipython",
    "version": 3
   },
   "file_extension": ".py",
   "mimetype": "text/x-python",
   "name": "python",
   "nbconvert_exporter": "python",
   "pygments_lexer": "ipython3",
   "version": "3.10.10"
  },
  "orig_nbformat": 4
 },
 "nbformat": 4,
 "nbformat_minor": 2
}
